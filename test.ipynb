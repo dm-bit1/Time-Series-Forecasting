{
 "cells": [
  {
   "cell_type": "markdown",
   "id": "5c535ff7",
   "metadata": {},
   "source": [
    "The file was used for testing stuff in Python."
   ]
  },
  {
   "cell_type": "code",
   "execution_count": 2,
   "id": "fb87238d-af6b-40c9-96b4-f4b376494462",
   "metadata": {},
   "outputs": [
    {
     "name": "stdout",
     "output_type": "stream",
     "text": [
      "version True\n",
      "cuda:0\n",
      "0\n",
      "1\n"
     ]
    },
    {
     "data": {
      "text/plain": [
       "'NVIDIA GeForce GTX 960M'"
      ]
     },
     "execution_count": 2,
     "metadata": {},
     "output_type": "execute_result"
    }
   ],
   "source": [
    "# Python testing\n",
    "import torch\n",
    "\n",
    "print(\"version\", torch.cuda.is_available())\n",
    "\n",
    "device = torch.device(\"cuda:0\" if torch.cuda.is_available() else \"cpu\")\n",
    "\n",
    "print(torch.cuda.device_count())\n",
    "\n",
    "torch.cuda.get_device_name(0)"
   ]
  },
  {
   "cell_type": "code",
   "execution_count": 3,
   "id": "fee617c4-9ae3-4092-99fe-b1861f909025",
   "metadata": {},
   "outputs": [
    {
     "name": "stdout",
     "output_type": "stream",
     "text": [
      "y\n",
      "<class 'pandas.core.frame.DataFrame'> RangeIndex(start=0, stop=1, step=1)\n",
      "tensor([0, 0, 1]) tensor([[0, 1, 0],\n",
      "        [1, 0, 0]])\n",
      "<class 'numpy.ndarray'> [1 2 3 4 5]\n"
     ]
    }
   ],
   "source": [
    "# Testing\n",
    "import numpy as np\n",
    "import pandas as pd\n",
    "\n",
    "arr = np.array([1,2,3,4,5])\n",
    "\n",
    "a = arr[1:2]\n",
    "\n",
    "if (a==3):\n",
    "    print('x')\n",
    "else:\n",
    "    print('y')\n",
    "\n",
    "df = pd.DataFrame(arr)\n",
    "\n",
    "print(type(df), df.columns)\n",
    "\n",
    "t1d = torch.tensor([0,0,1])\n",
    "\n",
    "t2d = torch.tensor([[0,1,0],[1,0,0]])\n",
    "\n",
    "print(t1d, t2d)\n",
    "\n",
    "print(type(arr), arr)"
   ]
  },
  {
   "cell_type": "code",
   "execution_count": 4,
   "id": "263e3e57-6195-4d85-8413-0e55945fc39b",
   "metadata": {},
   "outputs": [
    {
     "name": "stdout",
     "output_type": "stream",
     "text": [
      "turmeric pork True\n"
     ]
    }
   ],
   "source": [
    "# Python testing\n",
    "class myMeal():\n",
    "\n",
    "    def __init__(self):\n",
    "        self.spice = \"curry\"\n",
    "        self.meat = \"beef\"\n",
    "        self.noodles = True\n",
    "\n",
    "    def transform(self):\n",
    "        self.spice = \"turmeric\"\n",
    "        self.meat = \"pork\"\n",
    "        self.noodles = True\n",
    "    \n",
    "a = myMeal()\n",
    "\n",
    "a.transform()\n",
    "\n",
    "print(a.spice, a.meat, a.noodles)"
   ]
  },
  {
   "cell_type": "code",
   "execution_count": 5,
   "id": "414e0384-d65b-467f-a257-043d2ec2eeeb",
   "metadata": {},
   "outputs": [],
   "source": [
    "import pandas as pd\n",
    "import matplotlib.pyplot as plt\n",
    "from alpha_vantage.timeseries import TimeSeries"
   ]
  },
  {
   "cell_type": "code",
   "execution_count": 5,
   "id": "0e817049-d20b-47f4-bff3-7d4dc54d627f",
   "metadata": {},
   "outputs": [
    {
     "name": "stdout",
     "output_type": "stream",
     "text": [
      "IUC1X4IO3KN22ZNP\n"
     ]
    }
   ],
   "source": [
    "key = open('api_key.txt').read()\n",
    "\n",
    "print(key) # upload without the api_key.txt file, remove this line"
   ]
  },
  {
   "cell_type": "code",
   "execution_count": 6,
   "id": "97686ea7-d0b1-43ea-9391-e3e66a43664e",
   "metadata": {},
   "outputs": [],
   "source": [
    "ts = TimeSeries(key, output_format = 'pandas')\n",
    "\n",
    "# documentation; https://www.alphavantage.co/documentation/\n",
    "data, meta = ts.get_intraday('NFLX', interval = '1min', outputsize = 'full') "
   ]
  },
  {
   "cell_type": "code",
   "execution_count": null,
   "id": "6991798c-c0b3-4842-a3d4-0223922ecbc0",
   "metadata": {},
   "outputs": [],
   "source": [
    "# Each call to the cell above is a hit on the API limits.\n",
    "meta"
   ]
  },
  {
   "cell_type": "code",
   "execution_count": null,
   "id": "1cc831f0-cb9f-4710-9064-bc48c75f22e6",
   "metadata": {},
   "outputs": [],
   "source": [
    "#cols = ['open', 'high', 'low', 'close', 'volume']\n",
    "\n",
    "#data.columns = cols causing the kernel to die\n",
    "\n",
    "data.columns\n",
    "\n",
    "data.info()\n",
    "\n",
    "data.head(10)"
   ]
  },
  {
   "cell_type": "code",
   "execution_count": null,
   "id": "82c7ec4c-0a05-4459-bee1-6daba45d35b6",
   "metadata": {},
   "outputs": [],
   "source": [
    "plt.plot(data['4. close'])"
   ]
  },
  {
   "cell_type": "markdown",
   "id": "7b5f811f-3879-4d99-a334-b2fe24196bb3",
   "metadata": {},
   "source": [
    "from mplfinance.original_flavor import candlestick_ohlc \n",
    "# https://stackoverflow.com/questions/61238162/why-cant-i-import-candlestick-ohlc-from-mplfinance\n",
    "# https://www.geeksforgeeks.org/plot-candlestick-chart-using-mplfinance-module-in-python/\n",
    "import mplfinance as mpf\n",
    "import matplotlib.dates as mpdates\n",
    "\n",
    "plt.style.use('dark_background')\n",
    "\n",
    "data.index = data.index.map(mpdates.date2num)\n",
    "\n",
    "fig, ax = plt.subplots()\n",
    "\n",
    "# fix the line below\n",
    "candlestick_ohlc(ax, data['2024-02-26'].values, width = 0.6, colorup = 'green', colordown = 'red', alpha = 0.8)\n",
    "\n",
    "print(\"hi\")"
   ]
  },
  {
   "cell_type": "code",
   "execution_count": null,
   "id": "5df2a599-502d-4ddf-a095-dd61b6f41d69",
   "metadata": {},
   "outputs": [],
   "source": []
  }
 ],
 "metadata": {
  "kernelspec": {
   "display_name": "Python (machine_learning)",
   "language": "python",
   "name": "machine_learning"
  },
  "language_info": {
   "codemirror_mode": {
    "name": "ipython",
    "version": 3
   },
   "file_extension": ".py",
   "mimetype": "text/x-python",
   "name": "python",
   "nbconvert_exporter": "python",
   "pygments_lexer": "ipython3",
   "version": "3.11.5"
  }
 },
 "nbformat": 4,
 "nbformat_minor": 5
}
